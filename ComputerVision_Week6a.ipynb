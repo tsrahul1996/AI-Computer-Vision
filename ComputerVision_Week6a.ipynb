{
  "nbformat": 4,
  "nbformat_minor": 0,
  "metadata": {
    "colab": {
      "name": "ComputerVision-Week1a.ipynb",
      "provenance": [],
      "collapsed_sections": []
    },
    "kernelspec": {
      "name": "python3",
      "display_name": "Python 3"
    }
  },
  "cells": [
    {
      "cell_type": "markdown",
      "metadata": {
        "id": "cUGj-JOf7TI5"
      },
      "source": [
        "# NumPy Array Operations"
      ]
    },
    {
      "cell_type": "code",
      "metadata": {
        "id": "QMbOyfEE1XMg",
        "colab": {
          "base_uri": "https://localhost:8080/"
        },
        "outputId": "944288e6-0ed8-4848-83ac-61016098ee68"
      },
      "source": [
        "import numpy as np\n",
        "np.random.seed(902)\n",
        "arr = np.random.randint(0,101,10)\n",
        "\n",
        "arr"
      ],
      "execution_count": 1,
      "outputs": [
        {
          "output_type": "execute_result",
          "data": {
            "text/plain": [
              "array([66, 49, 29,  7, 38, 91, 39,  9, 56, 15])"
            ]
          },
          "metadata": {
            "tags": []
          },
          "execution_count": 1
        }
      ]
    },
    {
      "cell_type": "code",
      "metadata": {
        "id": "QsjMvU1j7qO5",
        "colab": {
          "base_uri": "https://localhost:8080/"
        },
        "outputId": "4521b14a-2123-4844-b573-b9beb9223833"
      },
      "source": [
        "arr2 = np.random.randint(0,101,10)\n",
        "arr2"
      ],
      "execution_count": 2,
      "outputs": [
        {
          "output_type": "execute_result",
          "data": {
            "text/plain": [
              "array([ 61, 100,  86,  26,  50,  22,  55,  39,   3,  12])"
            ]
          },
          "metadata": {
            "tags": []
          },
          "execution_count": 2
        }
      ]
    },
    {
      "cell_type": "markdown",
      "metadata": {
        "id": "mYIcAvnAVS8B"
      },
      "source": [
        "We are using the matrix below to try and isolate rows, columns and specific segments. This is a useful skill to learn when working with image arrays."
      ]
    },
    {
      "cell_type": "code",
      "metadata": {
        "id": "EUSrdY2icDN0",
        "colab": {
          "base_uri": "https://localhost:8080/"
        },
        "outputId": "47ae2912-a212-4da1-eb0e-7684b020d00c"
      },
      "source": [
        "matrix = np.arange(0,100).reshape(10,10)\n",
        "matrix"
      ],
      "execution_count": 3,
      "outputs": [
        {
          "output_type": "execute_result",
          "data": {
            "text/plain": [
              "array([[ 0,  1,  2,  3,  4,  5,  6,  7,  8,  9],\n",
              "       [10, 11, 12, 13, 14, 15, 16, 17, 18, 19],\n",
              "       [20, 21, 22, 23, 24, 25, 26, 27, 28, 29],\n",
              "       [30, 31, 32, 33, 34, 35, 36, 37, 38, 39],\n",
              "       [40, 41, 42, 43, 44, 45, 46, 47, 48, 49],\n",
              "       [50, 51, 52, 53, 54, 55, 56, 57, 58, 59],\n",
              "       [60, 61, 62, 63, 64, 65, 66, 67, 68, 69],\n",
              "       [70, 71, 72, 73, 74, 75, 76, 77, 78, 79],\n",
              "       [80, 81, 82, 83, 84, 85, 86, 87, 88, 89],\n",
              "       [90, 91, 92, 93, 94, 95, 96, 97, 98, 99]])"
            ]
          },
          "metadata": {
            "tags": []
          },
          "execution_count": 3
        }
      ]
    },
    {
      "cell_type": "markdown",
      "metadata": {
        "id": "Hirv9OxTVjy1"
      },
      "source": [
        "Isolate the second row of the matrix."
      ]
    },
    {
      "cell_type": "code",
      "metadata": {
        "id": "Mppx1YPecMpn",
        "colab": {
          "base_uri": "https://localhost:8080/"
        },
        "outputId": "06d1d216-f265-4a00-89c8-065f23078738"
      },
      "source": [
        "matrix[1,:]"
      ],
      "execution_count": 4,
      "outputs": [
        {
          "output_type": "execute_result",
          "data": {
            "text/plain": [
              "array([10, 11, 12, 13, 14, 15, 16, 17, 18, 19])"
            ]
          },
          "metadata": {
            "tags": []
          },
          "execution_count": 4
        }
      ]
    },
    {
      "cell_type": "markdown",
      "metadata": {
        "id": "bMvJ4x2dVr1P"
      },
      "source": [
        "Isolate the second column of the matrix."
      ]
    },
    {
      "cell_type": "code",
      "metadata": {
        "id": "OjHtpPvccR4o",
        "colab": {
          "base_uri": "https://localhost:8080/"
        },
        "outputId": "c23e3b6c-ba26-4321-ba41-a3b822c8fa26"
      },
      "source": [
        "matrix[:,1]"
      ],
      "execution_count": 5,
      "outputs": [
        {
          "output_type": "execute_result",
          "data": {
            "text/plain": [
              "array([ 1, 11, 21, 31, 41, 51, 61, 71, 81, 91])"
            ]
          },
          "metadata": {
            "tags": []
          },
          "execution_count": 5
        }
      ]
    },
    {
      "cell_type": "markdown",
      "metadata": {
        "id": "UHXRVK9QVw_F"
      },
      "source": [
        "Isolate the top left corner of the matrix in a 3x3 array."
      ]
    },
    {
      "cell_type": "code",
      "metadata": {
        "id": "78FcHJzOcXhD",
        "colab": {
          "base_uri": "https://localhost:8080/"
        },
        "outputId": "49f0be43-dd79-4d7b-84f8-b62f44cd3667"
      },
      "source": [
        "matrix[0:3,0:3]"
      ],
      "execution_count": 6,
      "outputs": [
        {
          "output_type": "execute_result",
          "data": {
            "text/plain": [
              "array([[ 0,  1,  2],\n",
              "       [10, 11, 12],\n",
              "       [20, 21, 22]])"
            ]
          },
          "metadata": {
            "tags": []
          },
          "execution_count": 6
        }
      ]
    },
    {
      "cell_type": "markdown",
      "metadata": {
        "id": "sl3Pq66vXShG"
      },
      "source": [
        "Now take our original matrix, if we want to change any of the values in the matrix this can also be completed using slicing. In this case I want to change the value for the first three rows to 0."
      ]
    },
    {
      "cell_type": "code",
      "metadata": {
        "id": "TcaxV6OKXPvL",
        "colab": {
          "base_uri": "https://localhost:8080/"
        },
        "outputId": "b973caff-4724-4e77-bbc3-ffa7cfce1bf9"
      },
      "source": [
        "matrix = np.arange(0,100).reshape(10,10)\n",
        "matrix"
      ],
      "execution_count": 7,
      "outputs": [
        {
          "output_type": "execute_result",
          "data": {
            "text/plain": [
              "array([[ 0,  1,  2,  3,  4,  5,  6,  7,  8,  9],\n",
              "       [10, 11, 12, 13, 14, 15, 16, 17, 18, 19],\n",
              "       [20, 21, 22, 23, 24, 25, 26, 27, 28, 29],\n",
              "       [30, 31, 32, 33, 34, 35, 36, 37, 38, 39],\n",
              "       [40, 41, 42, 43, 44, 45, 46, 47, 48, 49],\n",
              "       [50, 51, 52, 53, 54, 55, 56, 57, 58, 59],\n",
              "       [60, 61, 62, 63, 64, 65, 66, 67, 68, 69],\n",
              "       [70, 71, 72, 73, 74, 75, 76, 77, 78, 79],\n",
              "       [80, 81, 82, 83, 84, 85, 86, 87, 88, 89],\n",
              "       [90, 91, 92, 93, 94, 95, 96, 97, 98, 99]])"
            ]
          },
          "metadata": {
            "tags": []
          },
          "execution_count": 7
        }
      ]
    },
    {
      "cell_type": "markdown",
      "metadata": {
        "id": "KcVvjsBZXoE5"
      },
      "source": [
        "First I want to make sure I can isolate the first three rows."
      ]
    },
    {
      "cell_type": "code",
      "metadata": {
        "id": "1sQa32B8XhOm",
        "colab": {
          "base_uri": "https://localhost:8080/"
        },
        "outputId": "ba2c8062-cb09-405e-d53a-5041b371eebb"
      },
      "source": [
        "matrix[0:3,:]"
      ],
      "execution_count": 8,
      "outputs": [
        {
          "output_type": "execute_result",
          "data": {
            "text/plain": [
              "array([[ 0,  1,  2,  3,  4,  5,  6,  7,  8,  9],\n",
              "       [10, 11, 12, 13, 14, 15, 16, 17, 18, 19],\n",
              "       [20, 21, 22, 23, 24, 25, 26, 27, 28, 29]])"
            ]
          },
          "metadata": {
            "tags": []
          },
          "execution_count": 8
        }
      ]
    },
    {
      "cell_type": "markdown",
      "metadata": {
        "id": "0xnPFsylXrQH"
      },
      "source": [
        "Now I set the value to 0 on each row and output the matrix. This could be useful in pre-processing images to ignore non-relevant pixels."
      ]
    },
    {
      "cell_type": "code",
      "metadata": {
        "id": "O0XQXQTHXt0B",
        "colab": {
          "base_uri": "https://localhost:8080/"
        },
        "outputId": "a20cf5c5-4d4d-41d5-99a5-95c62670bcee"
      },
      "source": [
        "matrix[0:3,:] = 0\n",
        "matrix"
      ],
      "execution_count": 9,
      "outputs": [
        {
          "output_type": "execute_result",
          "data": {
            "text/plain": [
              "array([[ 0,  0,  0,  0,  0,  0,  0,  0,  0,  0],\n",
              "       [ 0,  0,  0,  0,  0,  0,  0,  0,  0,  0],\n",
              "       [ 0,  0,  0,  0,  0,  0,  0,  0,  0,  0],\n",
              "       [30, 31, 32, 33, 34, 35, 36, 37, 38, 39],\n",
              "       [40, 41, 42, 43, 44, 45, 46, 47, 48, 49],\n",
              "       [50, 51, 52, 53, 54, 55, 56, 57, 58, 59],\n",
              "       [60, 61, 62, 63, 64, 65, 66, 67, 68, 69],\n",
              "       [70, 71, 72, 73, 74, 75, 76, 77, 78, 79],\n",
              "       [80, 81, 82, 83, 84, 85, 86, 87, 88, 89],\n",
              "       [90, 91, 92, 93, 94, 95, 96, 97, 98, 99]])"
            ]
          },
          "metadata": {
            "tags": []
          },
          "execution_count": 9
        }
      ]
    },
    {
      "cell_type": "markdown",
      "metadata": {
        "id": "n9rCW6HwV3XL"
      },
      "source": [
        "Challenge: \n",
        "\n",
        "*   Try isolating the fifth row of the matrix.\n",
        "*   Try isolating the seventh column of the matrix.\n",
        "*   Try isolating the bottom right corner of the matrix in a 3x3 array.\n",
        "\n"
      ]
    },
    {
      "cell_type": "code",
      "metadata": {
        "id": "7UrnhdZ3aKSC",
        "colab": {
          "base_uri": "https://localhost:8080/"
        },
        "outputId": "ccead07d-8b14-492a-e0d9-396864a8ae6f"
      },
      "source": [
        "matrix[4,:]"
      ],
      "execution_count": 10,
      "outputs": [
        {
          "output_type": "execute_result",
          "data": {
            "text/plain": [
              "array([40, 41, 42, 43, 44, 45, 46, 47, 48, 49])"
            ]
          },
          "metadata": {
            "tags": []
          },
          "execution_count": 10
        }
      ]
    },
    {
      "cell_type": "code",
      "metadata": {
        "id": "Y_VS7dFMaR8x",
        "colab": {
          "base_uri": "https://localhost:8080/"
        },
        "outputId": "69f0c80d-cc27-4c26-8f8f-99095ec489fe"
      },
      "source": [
        "matrix[:,6]"
      ],
      "execution_count": 11,
      "outputs": [
        {
          "output_type": "execute_result",
          "data": {
            "text/plain": [
              "array([ 0,  0,  0, 36, 46, 56, 66, 76, 86, 96])"
            ]
          },
          "metadata": {
            "tags": []
          },
          "execution_count": 11
        }
      ]
    },
    {
      "cell_type": "code",
      "metadata": {
        "id": "YkuHlX4MauJP",
        "colab": {
          "base_uri": "https://localhost:8080/"
        },
        "outputId": "db9843a1-063e-4a6c-c8a1-9bc868465e63"
      },
      "source": [
        "matrix[7:10,7:10]"
      ],
      "execution_count": 12,
      "outputs": [
        {
          "output_type": "execute_result",
          "data": {
            "text/plain": [
              "array([[77, 78, 79],\n",
              "       [87, 88, 89],\n",
              "       [97, 98, 99]])"
            ]
          },
          "metadata": {
            "tags": []
          },
          "execution_count": 12
        }
      ]
    }
  ]
}